{
 "cells": [
  {
   "cell_type": "markdown",
   "metadata": {},
   "source": [
    "Statisitcal Learning and Data Mining \n",
    "\n",
    "Assignment\n",
    "\n",
    "Name : Shubham Jagtap\n",
    "\n",
    "Student ID : N19091023"
   ]
  },
  {
   "cell_type": "code",
   "execution_count": 1,
   "metadata": {
    "scrolled": true
   },
   "outputs": [
    {
     "data": {
      "text/plain": [
       "(6820, 15)"
      ]
     },
     "execution_count": 1,
     "metadata": {},
     "output_type": "execute_result"
    }
   ],
   "source": [
    "import pandas as pd\n",
    "\n",
    "df = pd.read_csv(\"movies.csv\",encoding='ISO-8859-1')\n",
    "df.shape"
   ]
  },
  {
   "cell_type": "markdown",
   "metadata": {},
   "source": [
    "Budget value seeems to be missing from the dataset. We need to impute those values. Budget may vary from company to company, also with respect to the genre of the movie and also with respect to the year it was released. We need to verify the factors budget depends on and impute it accordingly."
   ]
  },
  {
   "cell_type": "code",
   "execution_count": 2,
   "metadata": {},
   "outputs": [
    {
     "data": {
      "text/plain": [
       "0.0            2182\n",
       "20000000.0      207\n",
       "30000000.0      191\n",
       "25000000.0      177\n",
       "15000000.0      170\n",
       "               ... \n",
       "29000001.0        1\n",
       "128000000.0       1\n",
       "24500000.0        1\n",
       "300000.0          1\n",
       "5800000.0         1\n",
       "Name: budget, Length: 351, dtype: int64"
      ]
     },
     "execution_count": 2,
     "metadata": {},
     "output_type": "execute_result"
    }
   ],
   "source": [
    "df['budget'].value_counts()"
   ]
  },
  {
   "cell_type": "markdown",
   "metadata": {},
   "source": [
    "2182 films don't have any budget value. We need to verify the relation of budget values with other variables like the year, company and genre."
   ]
  },
  {
   "cell_type": "code",
   "execution_count": 3,
   "metadata": {},
   "outputs": [
    {
     "data": {
      "text/html": [
       "<div>\n",
       "<style scoped>\n",
       "    .dataframe tbody tr th:only-of-type {\n",
       "        vertical-align: middle;\n",
       "    }\n",
       "\n",
       "    .dataframe tbody tr th {\n",
       "        vertical-align: top;\n",
       "    }\n",
       "\n",
       "    .dataframe thead th {\n",
       "        text-align: right;\n",
       "    }\n",
       "</style>\n",
       "<table border=\"1\" class=\"dataframe\">\n",
       "  <thead>\n",
       "    <tr style=\"text-align: right;\">\n",
       "      <th></th>\n",
       "      <th>budget</th>\n",
       "      <th>gross</th>\n",
       "      <th>runtime</th>\n",
       "      <th>score</th>\n",
       "      <th>votes</th>\n",
       "      <th>year</th>\n",
       "    </tr>\n",
       "  </thead>\n",
       "  <tbody>\n",
       "    <tr>\n",
       "      <th>budget</th>\n",
       "      <td>1.000000</td>\n",
       "      <td>0.680033</td>\n",
       "      <td>0.313064</td>\n",
       "      <td>0.073579</td>\n",
       "      <td>0.451467</td>\n",
       "      <td>0.259835</td>\n",
       "    </tr>\n",
       "    <tr>\n",
       "      <th>gross</th>\n",
       "      <td>0.680033</td>\n",
       "      <td>1.000000</td>\n",
       "      <td>0.253273</td>\n",
       "      <td>0.229552</td>\n",
       "      <td>0.642904</td>\n",
       "      <td>0.167492</td>\n",
       "    </tr>\n",
       "    <tr>\n",
       "      <th>runtime</th>\n",
       "      <td>0.313064</td>\n",
       "      <td>0.253273</td>\n",
       "      <td>1.000000</td>\n",
       "      <td>0.417031</td>\n",
       "      <td>0.359817</td>\n",
       "      <td>0.047811</td>\n",
       "    </tr>\n",
       "    <tr>\n",
       "      <th>score</th>\n",
       "      <td>0.073579</td>\n",
       "      <td>0.229552</td>\n",
       "      <td>0.417031</td>\n",
       "      <td>1.000000</td>\n",
       "      <td>0.470648</td>\n",
       "      <td>0.061479</td>\n",
       "    </tr>\n",
       "    <tr>\n",
       "      <th>votes</th>\n",
       "      <td>0.451467</td>\n",
       "      <td>0.642904</td>\n",
       "      <td>0.359817</td>\n",
       "      <td>0.470648</td>\n",
       "      <td>1.000000</td>\n",
       "      <td>0.184096</td>\n",
       "    </tr>\n",
       "    <tr>\n",
       "      <th>year</th>\n",
       "      <td>0.259835</td>\n",
       "      <td>0.167492</td>\n",
       "      <td>0.047811</td>\n",
       "      <td>0.061479</td>\n",
       "      <td>0.184096</td>\n",
       "      <td>1.000000</td>\n",
       "    </tr>\n",
       "  </tbody>\n",
       "</table>\n",
       "</div>"
      ],
      "text/plain": [
       "           budget     gross   runtime     score     votes      year\n",
       "budget   1.000000  0.680033  0.313064  0.073579  0.451467  0.259835\n",
       "gross    0.680033  1.000000  0.253273  0.229552  0.642904  0.167492\n",
       "runtime  0.313064  0.253273  1.000000  0.417031  0.359817  0.047811\n",
       "score    0.073579  0.229552  0.417031  1.000000  0.470648  0.061479\n",
       "votes    0.451467  0.642904  0.359817  0.470648  1.000000  0.184096\n",
       "year     0.259835  0.167492  0.047811  0.061479  0.184096  1.000000"
      ]
     },
     "execution_count": 3,
     "metadata": {},
     "output_type": "execute_result"
    }
   ],
   "source": [
    "df3 = df.loc[df['budget'] != 0]\n",
    "df3.corr()"
   ]
  },
  {
   "cell_type": "markdown",
   "metadata": {},
   "source": [
    "There is less correlation between year and the budget of the film. However, there is some correlation between gross and budget. Even though gross has a high correlation with budget we cannot use it to impute budget values, as it is a response variable for Q.1 a."
   ]
  },
  {
   "cell_type": "code",
   "execution_count": 4,
   "metadata": {},
   "outputs": [
    {
     "data": {
      "text/plain": [
       "company\n",
       "Next Wave Films           6.000000e+03\n",
       "ERBP                      7.000000e+03\n",
       "Can I Watch               1.500000e+04\n",
       "Solana Films              1.500000e+04\n",
       "Professor Bright Films    2.000000e+04\n",
       "                              ...     \n",
       "H2F Entertainment         1.750000e+08\n",
       "Halcyon Company, The      2.000000e+08\n",
       "C-2 Pictures              2.000000e+08\n",
       "Marvel Studios            2.035714e+08\n",
       "B24                       2.450000e+08\n",
       "Name: budget, Length: 1340, dtype: float64"
      ]
     },
     "execution_count": 4,
     "metadata": {},
     "output_type": "execute_result"
    }
   ],
   "source": [
    "company_grp = df3.groupby(['company'])\n",
    "company_grp['budget'].agg('mean').sort_values()"
   ]
  },
  {
   "cell_type": "markdown",
   "metadata": {},
   "source": [
    "There is high difference in budget for different companies. Next Wave Films and B24 have huge difference in budgets."
   ]
  },
  {
   "cell_type": "code",
   "execution_count": 5,
   "metadata": {},
   "outputs": [],
   "source": [
    "genre_grp = df3.groupby(['genre'])"
   ]
  },
  {
   "cell_type": "code",
   "execution_count": 6,
   "metadata": {},
   "outputs": [
    {
     "data": {
      "text/plain": [
       "genre\n",
       "Action       5.921049e+07\n",
       "Adventure    5.024821e+07\n",
       "Animation    7.781004e+07\n",
       "Biography    2.546938e+07\n",
       "Comedy       2.369318e+07\n",
       "Crime        2.386503e+07\n",
       "Drama        2.415350e+07\n",
       "Family       1.992167e+07\n",
       "Fantasy      1.739455e+07\n",
       "Horror       1.439298e+07\n",
       "Musical      1.000000e+07\n",
       "Mystery      3.290484e+07\n",
       "Romance      1.644000e+07\n",
       "Sci-Fi       1.995455e+07\n",
       "Thriller     1.325000e+07\n",
       "Western      6.000000e+06\n",
       "Name: budget, dtype: float64"
      ]
     },
     "execution_count": 6,
     "metadata": {},
     "output_type": "execute_result"
    }
   ],
   "source": [
    "genre_grp['budget'].agg('mean')"
   ]
  },
  {
   "cell_type": "markdown",
   "metadata": {},
   "source": [
    "Compared to company wise budget the genre wise budget has smaller range. Imputing values with respect to company seems more reasonable."
   ]
  },
  {
   "cell_type": "markdown",
   "metadata": {},
   "source": [
    "Let us try to impute the missing values in budget by substituting the missing value with the average budget of the company for different films."
   ]
  },
  {
   "cell_type": "code",
   "execution_count": 7,
   "metadata": {},
   "outputs": [],
   "source": [
    "cpy_g = df.groupby(['company'])"
   ]
  },
  {
   "cell_type": "code",
   "execution_count": 8,
   "metadata": {},
   "outputs": [],
   "source": [
    "a = company_grp.get_group('Columbia Pictures Corporation').mean()"
   ]
  },
  {
   "cell_type": "code",
   "execution_count": 9,
   "metadata": {},
   "outputs": [
    {
     "data": {
      "text/plain": [
       "25                   TriStar Pictures\n",
       "26               Neue Constantin Film\n",
       "27                   TriStar Pictures\n",
       "32                            Gaumont\n",
       "35      Columbia Pictures Corporation\n",
       "                    ...              \n",
       "6813          Anna Biller Productions\n",
       "6815         Fox Searchlight Pictures\n",
       "6816         Siempre Viva Productions\n",
       "6818              Borderline Presents\n",
       "6819        Les Productions du Trésor\n",
       "Name: company, Length: 2182, dtype: object"
      ]
     },
     "execution_count": 9,
     "metadata": {},
     "output_type": "execute_result"
    }
   ],
   "source": [
    "df[df['budget']==0.0]['company']"
   ]
  },
  {
   "cell_type": "code",
   "execution_count": 10,
   "metadata": {},
   "outputs": [],
   "source": [
    "df4 = df[df['company']=='Columbia Pictures Corporation']['budget'].replace(0.0,a)"
   ]
  },
  {
   "cell_type": "code",
   "execution_count": 11,
   "metadata": {},
   "outputs": [
    {
     "data": {
      "text/plain": [
       "0         8000000.0\n",
       "35              0.0\n",
       "59              0.0\n",
       "82       12000000.0\n",
       "101             0.0\n",
       "           ...     \n",
       "4522     55000000.0\n",
       "4529            0.0\n",
       "4556     20000000.0\n",
       "4661    110000000.0\n",
       "5255     10000000.0\n",
       "Name: budget, Length: 166, dtype: float64"
      ]
     },
     "execution_count": 11,
     "metadata": {},
     "output_type": "execute_result"
    }
   ],
   "source": [
    "df4"
   ]
  },
  {
   "cell_type": "markdown",
   "metadata": {},
   "source": [
    "This imputation did not work as the value of 0.0 was not replaced by the mean. Instead of imputing the budget with an average value, I have preferred to ignore the rows with missing budgets. This leads to a loss of 1/3 of the data, but plugging in the average value may affect the roi(return on investement). As roi is dependent on budget values. "
   ]
  },
  {
   "cell_type": "markdown",
   "metadata": {},
   "source": [
    "df3 dataframe already has the values with the missing budget values removed"
   ]
  },
  {
   "cell_type": "markdown",
   "metadata": {},
   "source": [
    "Return on investement can be considered as the ratio of gross to budget."
   ]
  },
  {
   "cell_type": "code",
   "execution_count": 12,
   "metadata": {},
   "outputs": [
    {
     "name": "stderr",
     "output_type": "stream",
     "text": [
      "c:\\users\\hp\\appdata\\local\\programs\\python\\python36\\lib\\site-packages\\ipykernel_launcher.py:1: SettingWithCopyWarning: \n",
      "A value is trying to be set on a copy of a slice from a DataFrame.\n",
      "Try using .loc[row_indexer,col_indexer] = value instead\n",
      "\n",
      "See the caveats in the documentation: https://pandas.pydata.org/pandas-docs/stable/user_guide/indexing.html#returning-a-view-versus-a-copy\n",
      "  \"\"\"Entry point for launching an IPython kernel.\n"
     ]
    }
   ],
   "source": [
    "df3['roi']= df['gross']/df['budget']"
   ]
  },
  {
   "cell_type": "code",
   "execution_count": 13,
   "metadata": {},
   "outputs": [
    {
     "name": "stderr",
     "output_type": "stream",
     "text": [
      "c:\\users\\hp\\appdata\\local\\programs\\python\\python36\\lib\\site-packages\\ipykernel_launcher.py:1: SettingWithCopyWarning: \n",
      "A value is trying to be set on a copy of a slice from a DataFrame\n",
      "\n",
      "See the caveats in the documentation: https://pandas.pydata.org/pandas-docs/stable/user_guide/indexing.html#returning-a-view-versus-a-copy\n",
      "  \"\"\"Entry point for launching an IPython kernel.\n"
     ]
    }
   ],
   "source": [
    "df3.sort_values(by = 'roi',ascending = False, inplace = True)"
   ]
  },
  {
   "cell_type": "code",
   "execution_count": 14,
   "metadata": {},
   "outputs": [
    {
     "data": {
      "text/html": [
       "<div>\n",
       "<style scoped>\n",
       "    .dataframe tbody tr th:only-of-type {\n",
       "        vertical-align: middle;\n",
       "    }\n",
       "\n",
       "    .dataframe tbody tr th {\n",
       "        vertical-align: top;\n",
       "    }\n",
       "\n",
       "    .dataframe thead th {\n",
       "        text-align: right;\n",
       "    }\n",
       "</style>\n",
       "<table border=\"1\" class=\"dataframe\">\n",
       "  <thead>\n",
       "    <tr style=\"text-align: right;\">\n",
       "      <th></th>\n",
       "      <th>budget</th>\n",
       "      <th>company</th>\n",
       "      <th>country</th>\n",
       "      <th>director</th>\n",
       "      <th>genre</th>\n",
       "      <th>gross</th>\n",
       "      <th>name</th>\n",
       "      <th>rating</th>\n",
       "      <th>released</th>\n",
       "      <th>runtime</th>\n",
       "      <th>score</th>\n",
       "      <th>star</th>\n",
       "      <th>votes</th>\n",
       "      <th>writer</th>\n",
       "      <th>year</th>\n",
       "      <th>roi</th>\n",
       "    </tr>\n",
       "  </thead>\n",
       "  <tbody>\n",
       "    <tr>\n",
       "      <th>4683</th>\n",
       "      <td>15000.0</td>\n",
       "      <td>Solana Films</td>\n",
       "      <td>USA</td>\n",
       "      <td>Oren Peli</td>\n",
       "      <td>Horror</td>\n",
       "      <td>107918810.0</td>\n",
       "      <td>Paranormal Activity</td>\n",
       "      <td>R</td>\n",
       "      <td>2009-10-16</td>\n",
       "      <td>86</td>\n",
       "      <td>6.3</td>\n",
       "      <td>Katie Featherston</td>\n",
       "      <td>195668</td>\n",
       "      <td>Oren Peli</td>\n",
       "      <td>2007</td>\n",
       "      <td>7194.587333</td>\n",
       "    </tr>\n",
       "    <tr>\n",
       "      <th>2885</th>\n",
       "      <td>60000.0</td>\n",
       "      <td>Haxan Films</td>\n",
       "      <td>USA</td>\n",
       "      <td>Daniel Myrick</td>\n",
       "      <td>Horror</td>\n",
       "      <td>140539099.0</td>\n",
       "      <td>The Blair Witch Project</td>\n",
       "      <td>R</td>\n",
       "      <td>1999-07-30</td>\n",
       "      <td>81</td>\n",
       "      <td>6.4</td>\n",
       "      <td>Heather Donahue</td>\n",
       "      <td>202691</td>\n",
       "      <td>Daniel Myrick</td>\n",
       "      <td>1999</td>\n",
       "      <td>2342.318317</td>\n",
       "    </tr>\n",
       "    <tr>\n",
       "      <th>2123</th>\n",
       "      <td>25000.0</td>\n",
       "      <td>Brothers McMullen Productions</td>\n",
       "      <td>USA</td>\n",
       "      <td>Edward Burns</td>\n",
       "      <td>Comedy</td>\n",
       "      <td>10246600.0</td>\n",
       "      <td>The Brothers McMullen</td>\n",
       "      <td>R</td>\n",
       "      <td>1995-08-09</td>\n",
       "      <td>98</td>\n",
       "      <td>6.6</td>\n",
       "      <td>Jack Mulcahy</td>\n",
       "      <td>6598</td>\n",
       "      <td>Edward Burns</td>\n",
       "      <td>1995</td>\n",
       "      <td>409.864000</td>\n",
       "    </tr>\n",
       "    <tr>\n",
       "      <th>1388</th>\n",
       "      <td>7000.0</td>\n",
       "      <td>Columbia Pictures Corporation</td>\n",
       "      <td>USA</td>\n",
       "      <td>Robert Rodriguez</td>\n",
       "      <td>Action</td>\n",
       "      <td>2040920.0</td>\n",
       "      <td>El Mariachi</td>\n",
       "      <td>R</td>\n",
       "      <td>1993-02-26</td>\n",
       "      <td>81</td>\n",
       "      <td>6.9</td>\n",
       "      <td>Carlos Gallardo</td>\n",
       "      <td>55226</td>\n",
       "      <td>Robert Rodriguez</td>\n",
       "      <td>1992</td>\n",
       "      <td>291.560000</td>\n",
       "    </tr>\n",
       "    <tr>\n",
       "      <th>3806</th>\n",
       "      <td>120000.0</td>\n",
       "      <td>Plunge Pictures LLC</td>\n",
       "      <td>USA</td>\n",
       "      <td>Chris Kentis</td>\n",
       "      <td>Adventure</td>\n",
       "      <td>30610863.0</td>\n",
       "      <td>Open Water</td>\n",
       "      <td>R</td>\n",
       "      <td>2004-08-20</td>\n",
       "      <td>79</td>\n",
       "      <td>5.7</td>\n",
       "      <td>Blanchard Ryan</td>\n",
       "      <td>44989</td>\n",
       "      <td>Chris Kentis</td>\n",
       "      <td>2003</td>\n",
       "      <td>255.090525</td>\n",
       "    </tr>\n",
       "    <tr>\n",
       "      <th>...</th>\n",
       "      <td>...</td>\n",
       "      <td>...</td>\n",
       "      <td>...</td>\n",
       "      <td>...</td>\n",
       "      <td>...</td>\n",
       "      <td>...</td>\n",
       "      <td>...</td>\n",
       "      <td>...</td>\n",
       "      <td>...</td>\n",
       "      <td>...</td>\n",
       "      <td>...</td>\n",
       "      <td>...</td>\n",
       "      <td>...</td>\n",
       "      <td>...</td>\n",
       "      <td>...</td>\n",
       "      <td>...</td>\n",
       "    </tr>\n",
       "    <tr>\n",
       "      <th>5275</th>\n",
       "      <td>10000000.0</td>\n",
       "      <td>Middle Fork Productions</td>\n",
       "      <td>USA</td>\n",
       "      <td>Richard Harrah</td>\n",
       "      <td>Thriller</td>\n",
       "      <td>1785.0</td>\n",
       "      <td>The Canyon</td>\n",
       "      <td>R</td>\n",
       "      <td>2009-10-23</td>\n",
       "      <td>100</td>\n",
       "      <td>5.9</td>\n",
       "      <td>Eion Bailey</td>\n",
       "      <td>3453</td>\n",
       "      <td>Steve Allrich</td>\n",
       "      <td>2009</td>\n",
       "      <td>0.000179</td>\n",
       "    </tr>\n",
       "    <tr>\n",
       "      <th>5869</th>\n",
       "      <td>12000000.0</td>\n",
       "      <td>H2O Motion Pictures</td>\n",
       "      <td>Canada</td>\n",
       "      <td>David Weaver</td>\n",
       "      <td>Crime</td>\n",
       "      <td>1744.0</td>\n",
       "      <td>The Samaritan</td>\n",
       "      <td>R</td>\n",
       "      <td>2012-04-20</td>\n",
       "      <td>90</td>\n",
       "      <td>5.6</td>\n",
       "      <td>Samuel L. Jackson</td>\n",
       "      <td>8339</td>\n",
       "      <td>Elan Mastai</td>\n",
       "      <td>2012</td>\n",
       "      <td>0.000145</td>\n",
       "    </tr>\n",
       "    <tr>\n",
       "      <th>5664</th>\n",
       "      <td>94000000.0</td>\n",
       "      <td>Beijing New Picture Film Co.</td>\n",
       "      <td>China</td>\n",
       "      <td>Yimou Zhang</td>\n",
       "      <td>Drama</td>\n",
       "      <td>9213.0</td>\n",
       "      <td>The Flowers of War</td>\n",
       "      <td>R</td>\n",
       "      <td>2011-12-16</td>\n",
       "      <td>146</td>\n",
       "      <td>7.6</td>\n",
       "      <td>Christian Bale</td>\n",
       "      <td>41876</td>\n",
       "      <td>Heng Liu</td>\n",
       "      <td>2011</td>\n",
       "      <td>0.000098</td>\n",
       "    </tr>\n",
       "    <tr>\n",
       "      <th>5076</th>\n",
       "      <td>47000000.0</td>\n",
       "      <td>Pan Européenne</td>\n",
       "      <td>Belgium</td>\n",
       "      <td>Jaco Van Dormael</td>\n",
       "      <td>Drama</td>\n",
       "      <td>3600.0</td>\n",
       "      <td>Mr. Nobody</td>\n",
       "      <td>R</td>\n",
       "      <td>2013-09-26</td>\n",
       "      <td>141</td>\n",
       "      <td>7.9</td>\n",
       "      <td>Jared Leto</td>\n",
       "      <td>173190</td>\n",
       "      <td>Jaco Van Dormael</td>\n",
       "      <td>2009</td>\n",
       "      <td>0.000077</td>\n",
       "    </tr>\n",
       "    <tr>\n",
       "      <th>2594</th>\n",
       "      <td>15000000.0</td>\n",
       "      <td>Daybreak</td>\n",
       "      <td>USA</td>\n",
       "      <td>George Huang</td>\n",
       "      <td>Comedy</td>\n",
       "      <td>309.0</td>\n",
       "      <td>Trojan War</td>\n",
       "      <td>PG-13</td>\n",
       "      <td>1997-10-01</td>\n",
       "      <td>84</td>\n",
       "      <td>5.7</td>\n",
       "      <td>Will Friedle</td>\n",
       "      <td>5034</td>\n",
       "      <td>Andy Burg</td>\n",
       "      <td>1997</td>\n",
       "      <td>0.000021</td>\n",
       "    </tr>\n",
       "  </tbody>\n",
       "</table>\n",
       "<p>4638 rows × 16 columns</p>\n",
       "</div>"
      ],
      "text/plain": [
       "          budget                        company  country          director  \\\n",
       "4683     15000.0                   Solana Films      USA         Oren Peli   \n",
       "2885     60000.0                    Haxan Films      USA     Daniel Myrick   \n",
       "2123     25000.0  Brothers McMullen Productions      USA      Edward Burns   \n",
       "1388      7000.0  Columbia Pictures Corporation      USA  Robert Rodriguez   \n",
       "3806    120000.0            Plunge Pictures LLC      USA      Chris Kentis   \n",
       "...          ...                            ...      ...               ...   \n",
       "5275  10000000.0        Middle Fork Productions      USA    Richard Harrah   \n",
       "5869  12000000.0            H2O Motion Pictures   Canada      David Weaver   \n",
       "5664  94000000.0   Beijing New Picture Film Co.    China       Yimou Zhang   \n",
       "5076  47000000.0                 Pan Européenne  Belgium  Jaco Van Dormael   \n",
       "2594  15000000.0                       Daybreak      USA      George Huang   \n",
       "\n",
       "          genre        gross                     name rating    released  \\\n",
       "4683     Horror  107918810.0      Paranormal Activity      R  2009-10-16   \n",
       "2885     Horror  140539099.0  The Blair Witch Project      R  1999-07-30   \n",
       "2123     Comedy   10246600.0    The Brothers McMullen      R  1995-08-09   \n",
       "1388     Action    2040920.0              El Mariachi      R  1993-02-26   \n",
       "3806  Adventure   30610863.0               Open Water      R  2004-08-20   \n",
       "...         ...          ...                      ...    ...         ...   \n",
       "5275   Thriller       1785.0               The Canyon      R  2009-10-23   \n",
       "5869      Crime       1744.0            The Samaritan      R  2012-04-20   \n",
       "5664      Drama       9213.0       The Flowers of War      R  2011-12-16   \n",
       "5076      Drama       3600.0               Mr. Nobody      R  2013-09-26   \n",
       "2594     Comedy        309.0               Trojan War  PG-13  1997-10-01   \n",
       "\n",
       "      runtime  score               star   votes            writer  year  \\\n",
       "4683       86    6.3  Katie Featherston  195668         Oren Peli  2007   \n",
       "2885       81    6.4    Heather Donahue  202691     Daniel Myrick  1999   \n",
       "2123       98    6.6       Jack Mulcahy    6598      Edward Burns  1995   \n",
       "1388       81    6.9    Carlos Gallardo   55226  Robert Rodriguez  1992   \n",
       "3806       79    5.7     Blanchard Ryan   44989      Chris Kentis  2003   \n",
       "...       ...    ...                ...     ...               ...   ...   \n",
       "5275      100    5.9        Eion Bailey    3453     Steve Allrich  2009   \n",
       "5869       90    5.6  Samuel L. Jackson    8339       Elan Mastai  2012   \n",
       "5664      146    7.6     Christian Bale   41876          Heng Liu  2011   \n",
       "5076      141    7.9         Jared Leto  173190  Jaco Van Dormael  2009   \n",
       "2594       84    5.7       Will Friedle    5034         Andy Burg  1997   \n",
       "\n",
       "              roi  \n",
       "4683  7194.587333  \n",
       "2885  2342.318317  \n",
       "2123   409.864000  \n",
       "1388   291.560000  \n",
       "3806   255.090525  \n",
       "...           ...  \n",
       "5275     0.000179  \n",
       "5869     0.000145  \n",
       "5664     0.000098  \n",
       "5076     0.000077  \n",
       "2594     0.000021  \n",
       "\n",
       "[4638 rows x 16 columns]"
      ]
     },
     "execution_count": 14,
     "metadata": {},
     "output_type": "execute_result"
    }
   ],
   "source": [
    "df3"
   ]
  },
  {
   "cell_type": "code",
   "execution_count": 15,
   "metadata": {},
   "outputs": [],
   "source": [
    "gnr_grp = df3.groupby(['genre'])"
   ]
  },
  {
   "cell_type": "code",
   "execution_count": 16,
   "metadata": {},
   "outputs": [
    {
     "name": "stderr",
     "output_type": "stream",
     "text": [
      "c:\\users\\hp\\appdata\\local\\programs\\python\\python36\\lib\\site-packages\\ipykernel_launcher.py:1: FutureWarning: Indexing with multiple keys (implicitly converted to a tuple of keys) will be deprecated, use a list instead.\n",
      "  \"\"\"Entry point for launching an IPython kernel.\n"
     ]
    },
    {
     "data": {
      "text/html": [
       "<div>\n",
       "<style scoped>\n",
       "    .dataframe tbody tr th:only-of-type {\n",
       "        vertical-align: middle;\n",
       "    }\n",
       "\n",
       "    .dataframe tbody tr th {\n",
       "        vertical-align: top;\n",
       "    }\n",
       "\n",
       "    .dataframe thead th {\n",
       "        text-align: right;\n",
       "    }\n",
       "</style>\n",
       "<table border=\"1\" class=\"dataframe\">\n",
       "  <thead>\n",
       "    <tr style=\"text-align: right;\">\n",
       "      <th></th>\n",
       "      <th>roi</th>\n",
       "      <th>votes</th>\n",
       "    </tr>\n",
       "    <tr>\n",
       "      <th>genre</th>\n",
       "      <th></th>\n",
       "      <th></th>\n",
       "    </tr>\n",
       "  </thead>\n",
       "  <tbody>\n",
       "    <tr>\n",
       "      <th>Musical</th>\n",
       "      <td>0.004476</td>\n",
       "      <td>1008.000000</td>\n",
       "    </tr>\n",
       "    <tr>\n",
       "      <th>Family</th>\n",
       "      <td>0.488875</td>\n",
       "      <td>8387.833333</td>\n",
       "    </tr>\n",
       "    <tr>\n",
       "      <th>Thriller</th>\n",
       "      <td>0.649603</td>\n",
       "      <td>10241.625000</td>\n",
       "    </tr>\n",
       "    <tr>\n",
       "      <th>Western</th>\n",
       "      <td>0.971773</td>\n",
       "      <td>18227.000000</td>\n",
       "    </tr>\n",
       "    <tr>\n",
       "      <th>Fantasy</th>\n",
       "      <td>1.608544</td>\n",
       "      <td>43848.517241</td>\n",
       "    </tr>\n",
       "    <tr>\n",
       "      <th>Romance</th>\n",
       "      <td>1.693938</td>\n",
       "      <td>46274.800000</td>\n",
       "    </tr>\n",
       "    <tr>\n",
       "      <th>Comedy</th>\n",
       "      <td>2.592252</td>\n",
       "      <td>60397.266412</td>\n",
       "    </tr>\n",
       "    <tr>\n",
       "      <th>Horror</th>\n",
       "      <td>45.742273</td>\n",
       "      <td>63209.385965</td>\n",
       "    </tr>\n",
       "    <tr>\n",
       "      <th>Drama</th>\n",
       "      <td>2.274116</td>\n",
       "      <td>84158.136192</td>\n",
       "    </tr>\n",
       "    <tr>\n",
       "      <th>Biography</th>\n",
       "      <td>1.540714</td>\n",
       "      <td>92612.769874</td>\n",
       "    </tr>\n",
       "    <tr>\n",
       "      <th>Crime</th>\n",
       "      <td>1.312630</td>\n",
       "      <td>111066.997191</td>\n",
       "    </tr>\n",
       "    <tr>\n",
       "      <th>Animation</th>\n",
       "      <td>1.566504</td>\n",
       "      <td>127245.943231</td>\n",
       "    </tr>\n",
       "    <tr>\n",
       "      <th>Sci-Fi</th>\n",
       "      <td>1.893427</td>\n",
       "      <td>129478.090909</td>\n",
       "    </tr>\n",
       "    <tr>\n",
       "      <th>Action</th>\n",
       "      <td>1.545740</td>\n",
       "      <td>132120.315742</td>\n",
       "    </tr>\n",
       "    <tr>\n",
       "      <th>Adventure</th>\n",
       "      <td>2.446359</td>\n",
       "      <td>133144.109966</td>\n",
       "    </tr>\n",
       "    <tr>\n",
       "      <th>Mystery</th>\n",
       "      <td>1.541988</td>\n",
       "      <td>185260.290323</td>\n",
       "    </tr>\n",
       "  </tbody>\n",
       "</table>\n",
       "</div>"
      ],
      "text/plain": [
       "                 roi          votes\n",
       "genre                              \n",
       "Musical     0.004476    1008.000000\n",
       "Family      0.488875    8387.833333\n",
       "Thriller    0.649603   10241.625000\n",
       "Western     0.971773   18227.000000\n",
       "Fantasy     1.608544   43848.517241\n",
       "Romance     1.693938   46274.800000\n",
       "Comedy      2.592252   60397.266412\n",
       "Horror     45.742273   63209.385965\n",
       "Drama       2.274116   84158.136192\n",
       "Biography   1.540714   92612.769874\n",
       "Crime       1.312630  111066.997191\n",
       "Animation   1.566504  127245.943231\n",
       "Sci-Fi      1.893427  129478.090909\n",
       "Action      1.545740  132120.315742\n",
       "Adventure   2.446359  133144.109966\n",
       "Mystery     1.541988  185260.290323"
      ]
     },
     "execution_count": 16,
     "metadata": {},
     "output_type": "execute_result"
    }
   ],
   "source": [
    "gnr_grp['roi','votes'].agg('mean').sort_values(by = 'votes')"
   ]
  },
  {
   "cell_type": "markdown",
   "metadata": {},
   "source": [
    "Horror films have the highest return on investment, the number of movies made in horror genre is also to be considred as sometimes the sample may be too small to give the correct inference."
   ]
  },
  {
   "cell_type": "code",
   "execution_count": 17,
   "metadata": {},
   "outputs": [
    {
     "data": {
      "text/plain": [
       "Comedy       2080\n",
       "Drama        1444\n",
       "Action       1331\n",
       "Crime         522\n",
       "Adventure     392\n",
       "Biography     359\n",
       "Horror        277\n",
       "Animation     277\n",
       "Mystery        38\n",
       "Fantasy        32\n",
       "Thriller       18\n",
       "Romance        15\n",
       "Family         14\n",
       "Sci-Fi         13\n",
       "Musical         4\n",
       "War             2\n",
       "Western         2\n",
       "Name: genre, dtype: int64"
      ]
     },
     "execution_count": 17,
     "metadata": {},
     "output_type": "execute_result"
    }
   ],
   "source": [
    "df['genre'].value_counts()"
   ]
  },
  {
   "cell_type": "markdown",
   "metadata": {},
   "source": [
    "The number of horror movies is also satisfactory. To check whether outlier values affect the mean we can compute median to confirm our interpretation."
   ]
  },
  {
   "cell_type": "code",
   "execution_count": 18,
   "metadata": {},
   "outputs": [
    {
     "name": "stderr",
     "output_type": "stream",
     "text": [
      "c:\\users\\hp\\appdata\\local\\programs\\python\\python36\\lib\\site-packages\\ipykernel_launcher.py:1: FutureWarning: Indexing with multiple keys (implicitly converted to a tuple of keys) will be deprecated, use a list instead.\n",
      "  \"\"\"Entry point for launching an IPython kernel.\n"
     ]
    },
    {
     "data": {
      "text/html": [
       "<div>\n",
       "<style scoped>\n",
       "    .dataframe tbody tr th:only-of-type {\n",
       "        vertical-align: middle;\n",
       "    }\n",
       "\n",
       "    .dataframe tbody tr th {\n",
       "        vertical-align: top;\n",
       "    }\n",
       "\n",
       "    .dataframe thead th {\n",
       "        text-align: right;\n",
       "    }\n",
       "</style>\n",
       "<table border=\"1\" class=\"dataframe\">\n",
       "  <thead>\n",
       "    <tr style=\"text-align: right;\">\n",
       "      <th></th>\n",
       "      <th>roi</th>\n",
       "      <th>votes</th>\n",
       "    </tr>\n",
       "    <tr>\n",
       "      <th>genre</th>\n",
       "      <th></th>\n",
       "      <th></th>\n",
       "    </tr>\n",
       "  </thead>\n",
       "  <tbody>\n",
       "    <tr>\n",
       "      <th>Musical</th>\n",
       "      <td>0.004476</td>\n",
       "      <td>1008.0</td>\n",
       "    </tr>\n",
       "    <tr>\n",
       "      <th>Thriller</th>\n",
       "      <td>0.242314</td>\n",
       "      <td>6231.5</td>\n",
       "    </tr>\n",
       "    <tr>\n",
       "      <th>Romance</th>\n",
       "      <td>1.244933</td>\n",
       "      <td>6451.0</td>\n",
       "    </tr>\n",
       "    <tr>\n",
       "      <th>Family</th>\n",
       "      <td>0.641666</td>\n",
       "      <td>6494.5</td>\n",
       "    </tr>\n",
       "    <tr>\n",
       "      <th>Western</th>\n",
       "      <td>0.971773</td>\n",
       "      <td>18227.0</td>\n",
       "    </tr>\n",
       "    <tr>\n",
       "      <th>Fantasy</th>\n",
       "      <td>1.142639</td>\n",
       "      <td>21333.0</td>\n",
       "    </tr>\n",
       "    <tr>\n",
       "      <th>Comedy</th>\n",
       "      <td>1.133715</td>\n",
       "      <td>31278.5</td>\n",
       "    </tr>\n",
       "    <tr>\n",
       "      <th>Drama</th>\n",
       "      <td>0.724004</td>\n",
       "      <td>34250.0</td>\n",
       "    </tr>\n",
       "    <tr>\n",
       "      <th>Horror</th>\n",
       "      <td>1.781617</td>\n",
       "      <td>39842.0</td>\n",
       "    </tr>\n",
       "    <tr>\n",
       "      <th>Biography</th>\n",
       "      <td>0.847093</td>\n",
       "      <td>41586.0</td>\n",
       "    </tr>\n",
       "    <tr>\n",
       "      <th>Crime</th>\n",
       "      <td>0.811786</td>\n",
       "      <td>42894.5</td>\n",
       "    </tr>\n",
       "    <tr>\n",
       "      <th>Sci-Fi</th>\n",
       "      <td>0.561935</td>\n",
       "      <td>53291.0</td>\n",
       "    </tr>\n",
       "    <tr>\n",
       "      <th>Adventure</th>\n",
       "      <td>1.018624</td>\n",
       "      <td>56850.0</td>\n",
       "    </tr>\n",
       "    <tr>\n",
       "      <th>Animation</th>\n",
       "      <td>1.172802</td>\n",
       "      <td>71925.0</td>\n",
       "    </tr>\n",
       "    <tr>\n",
       "      <th>Action</th>\n",
       "      <td>0.889681</td>\n",
       "      <td>72711.0</td>\n",
       "    </tr>\n",
       "    <tr>\n",
       "      <th>Mystery</th>\n",
       "      <td>1.099786</td>\n",
       "      <td>99003.0</td>\n",
       "    </tr>\n",
       "  </tbody>\n",
       "</table>\n",
       "</div>"
      ],
      "text/plain": [
       "                roi    votes\n",
       "genre                       \n",
       "Musical    0.004476   1008.0\n",
       "Thriller   0.242314   6231.5\n",
       "Romance    1.244933   6451.0\n",
       "Family     0.641666   6494.5\n",
       "Western    0.971773  18227.0\n",
       "Fantasy    1.142639  21333.0\n",
       "Comedy     1.133715  31278.5\n",
       "Drama      0.724004  34250.0\n",
       "Horror     1.781617  39842.0\n",
       "Biography  0.847093  41586.0\n",
       "Crime      0.811786  42894.5\n",
       "Sci-Fi     0.561935  53291.0\n",
       "Adventure  1.018624  56850.0\n",
       "Animation  1.172802  71925.0\n",
       "Action     0.889681  72711.0\n",
       "Mystery    1.099786  99003.0"
      ]
     },
     "execution_count": 18,
     "metadata": {},
     "output_type": "execute_result"
    }
   ],
   "source": [
    "gnr_grp['roi','votes'].agg('median').sort_values(by = 'votes')"
   ]
  },
  {
   "cell_type": "markdown",
   "metadata": {},
   "source": [
    "Median value of horror movies is also high, hence horror movies give the most return on investement. Also the genre mystery has highest number of votes. "
   ]
  },
  {
   "cell_type": "code",
   "execution_count": 19,
   "metadata": {},
   "outputs": [],
   "source": [
    "filt = (df3['genre']=='Horror')#considers the genre that gives most returns\n",
    "df4 = df3[filt]"
   ]
  },
  {
   "cell_type": "code",
   "execution_count": 20,
   "metadata": {
    "scrolled": true
   },
   "outputs": [],
   "source": [
    "filt = (df4['roi'] >1.5)#considers only those movies that were profitable\n",
    "df4 = df4[filt]"
   ]
  },
  {
   "cell_type": "code",
   "execution_count": 21,
   "metadata": {},
   "outputs": [
    {
     "name": "stdout",
     "output_type": "stream",
     "text": [
      "0    James Wan\n",
      "dtype: object\n",
      "0    Donald Pleasence\n",
      "1          Tobin Bell\n",
      "dtype: object\n",
      "0    Leigh Whannell\n",
      "dtype: object\n"
     ]
    }
   ],
   "source": [
    "print(df4['director'].agg('mode'))\n",
    "print(df4['star'].agg('mode'))\n",
    "print(df4['writer'].agg('mode'))"
   ]
  },
  {
   "cell_type": "markdown",
   "metadata": {},
   "source": [
    "Hence the recepie for producing a high grossing film is to produce a film of genre Horror and select the above professionals in it."
   ]
  },
  {
   "cell_type": "markdown",
   "metadata": {},
   "source": [
    "For popularity of a movie we can consider the votes it received and rank the movies accordingly."
   ]
  },
  {
   "cell_type": "code",
   "execution_count": 22,
   "metadata": {},
   "outputs": [],
   "source": [
    "filt = (df3['genre'] == 'Mystery') #considers the genre that gives most votes\n",
    "df5 = df3[filt]\n",
    "filt = (df5['roi'] >1.5)  #considers only those movies that were profitable\n",
    "df5 = df5[filt]"
   ]
  },
  {
   "cell_type": "code",
   "execution_count": 23,
   "metadata": {},
   "outputs": [],
   "source": [
    "import numpy as np"
   ]
  },
  {
   "cell_type": "code",
   "execution_count": 24,
   "metadata": {},
   "outputs": [
    {
     "data": {
      "text/plain": [
       "array(['Alan J. Pakula', 'Alan Rudolph', 'Christopher Nolan',\n",
       "       'Duncan Jones', 'J.J. Abrams', 'James Mangold', 'Martin Scorsese',\n",
       "       'Neil Burger', 'Olatunde Osunsanmi', 'Rob Cohen', 'Ron Howard',\n",
       "       'Terry Gilliam', 'Wes Craven'], dtype=object)"
      ]
     },
     "execution_count": 24,
     "metadata": {},
     "output_type": "execute_result"
    }
   ],
   "source": [
    "a = (np.array(df5['director'].agg('mode')))\n",
    "a"
   ]
  },
  {
   "cell_type": "code",
   "execution_count": 25,
   "metadata": {},
   "outputs": [],
   "source": [
    "b = np.array(df5['star'].agg('mode'))\n",
    "c = np.array(df5['writer'].agg('mode'))"
   ]
  },
  {
   "cell_type": "markdown",
   "metadata": {},
   "source": [
    "Here we have a tie between many stars, directors and writers. It might happen that a particular star, director and writer trio work well than a random choice. So while selecting, people out of the trio are to be avoided."
   ]
  },
  {
   "cell_type": "code",
   "execution_count": 26,
   "metadata": {},
   "outputs": [
    {
     "data": {
      "text/plain": [
       "genre              Mystery\n",
       "director         Rob Cohen\n",
       "writer       Barbara Curry\n",
       "star        Jennifer Lopez\n",
       "Name: 6506, dtype: object"
      ]
     },
     "execution_count": 26,
     "metadata": {},
     "output_type": "execute_result"
    }
   ],
   "source": [
    "df6 = df5[(df5['director'].isin(a))]\n",
    "df6 = df6[(df6['writer'].isin(c))]\n",
    "df6 = df6[(df6['star'].isin(b))]\n",
    "df6.sort_values(by = 'votes')\n",
    "df6.iloc[0][['genre','director','writer','star']]"
   ]
  },
  {
   "cell_type": "markdown",
   "metadata": {},
   "source": [
    "This gives the trio of director, writer and star that works well for the genre Mystery. This should make the movie popular."
   ]
  },
  {
   "cell_type": "markdown",
   "metadata": {},
   "source": [
    "Suppose some of the star/director or writer is not available for the movie, we can select the next trio or select the next respective professional from our dataframe as it has ranked them according to votes.\n",
    "\n",
    "The code below gives the next best trio and the third best star for the mystery genre. "
   ]
  },
  {
   "cell_type": "code",
   "execution_count": 27,
   "metadata": {},
   "outputs": [
    {
     "name": "stdout",
     "output_type": "stream",
     "text": [
      "genre              Mystery\n",
      "director    Alan J. Pakula\n",
      "writer         Scott Turow\n",
      "star         Harrison Ford\n",
      "Name: 918, dtype: object\n",
      "Bradley Cooper\n"
     ]
    }
   ],
   "source": [
    "print(df6.iloc[1][['genre','director','writer','star']])\n",
    "print(df6.iloc[2]['star'])"
   ]
  },
  {
   "cell_type": "markdown",
   "metadata": {},
   "source": [
    "Similarly we can select the best professionals in horror genre for a high roi movie. We have high roi movies in dataframe df4. We'll print the best professionals and the second best star in the code below."
   ]
  },
  {
   "cell_type": "code",
   "execution_count": 28,
   "metadata": {},
   "outputs": [
    {
     "name": "stdout",
     "output_type": "stream",
     "text": [
      "genre                  Horror\n",
      "director            Oren Peli\n",
      "writer              Oren Peli\n",
      "star        Katie Featherston\n",
      "Name: 4683, dtype: object\n",
      "Heather Donahue\n"
     ]
    }
   ],
   "source": [
    "print(df4.iloc[0][['genre','director','writer','star']])\n",
    "print(df4.iloc[1]['star'])"
   ]
  },
  {
   "cell_type": "markdown",
   "metadata": {},
   "source": [
    "A successful producer may be defined as someone who gets high roi and his movies are popular. Consider the movies which are popular and have high return on investement. Dataframe df3 has nonmissing values."
   ]
  },
  {
   "cell_type": "code",
   "execution_count": 29,
   "metadata": {},
   "outputs": [],
   "source": [
    "filt = (df3['roi'] >1.5)#considers only those movies that were profitable\n",
    "df7 = df3[filt].sort_values(by='votes',ascending=False)"
   ]
  },
  {
   "cell_type": "markdown",
   "metadata": {},
   "source": [
    "We'll now consider the country in which these movies were produced. "
   ]
  },
  {
   "cell_type": "code",
   "execution_count": 30,
   "metadata": {},
   "outputs": [
    {
     "data": {
      "text/plain": [
       "0    USA\n",
       "dtype: object"
      ]
     },
     "execution_count": 30,
     "metadata": {},
     "output_type": "execute_result"
    }
   ],
   "source": [
    "df7['country'].mode()"
   ]
  },
  {
   "cell_type": "markdown",
   "metadata": {},
   "source": [
    "Most films were made in USA, hence the producer should stay in USA for making high grossing and popular movies."
   ]
  },
  {
   "cell_type": "markdown",
   "metadata": {},
   "source": [
    "Limitations of the results :\n",
    "\n",
    "1.The model has not accounted inflation. Since the movies are from the year 1986 till 2016.\n",
    "\n",
    "2.The model is based on averages, medians and modes taken for different groups. No statistical learning technique has been used.\n",
    "\n",
    "3.Almost 1/3 of the data has been dropped.\n",
    "\n",
    "4.The professionls required for creating desirable movies may not be actively working right now.\n",
    "\n",
    "5.Nonlinear relation in different variables has not been accounted for.\n",
    "\n",
    "6.Categorical values can be encoded and used in models to give better results."
   ]
  },
  {
   "cell_type": "code",
   "execution_count": null,
   "metadata": {},
   "outputs": [],
   "source": []
  }
 ],
 "metadata": {
  "kernelspec": {
   "display_name": "Python 3",
   "language": "python",
   "name": "python3"
  },
  "language_info": {
   "codemirror_mode": {
    "name": "ipython",
    "version": 3
   },
   "file_extension": ".py",
   "mimetype": "text/x-python",
   "name": "python",
   "nbconvert_exporter": "python",
   "pygments_lexer": "ipython3",
   "version": "3.6.7"
  }
 },
 "nbformat": 4,
 "nbformat_minor": 4
}
